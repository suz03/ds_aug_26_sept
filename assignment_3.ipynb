{
 "cells": [
  {
   "cell_type": "markdown",
   "id": "4e96153a",
   "metadata": {},
   "source": [
    "# Python Assignment - 3\n",
    "### Carries - 30 marks"
   ]
  },
  {
   "cell_type": "markdown",
   "id": "b5bc6391",
   "metadata": {},
   "source": [
    "## What is File function in python? What is keywords to create and write file. "
   ]
  },
  {
   "cell_type": "code",
   "execution_count": null,
   "id": "ca9fcb29",
   "metadata": {},
   "outputs": [],
   "source": [
    "file = open(filename, mode)\n",
    "content = file.read()\n",
    "file.write(\"This is a new line of text.\")\n",
    "file.close()\n",
    "\n",
    "\n"
   ]
  },
  {
   "cell_type": "markdown",
   "id": "77e6fcc1",
   "metadata": {},
   "source": [
    "#### Create and write a  file"
   ]
  },
  {
   "cell_type": "code",
   "execution_count": 4,
   "id": "10cffab9",
   "metadata": {},
   "outputs": [],
   "source": [
    "with open(\"example.txt\", \"w\") as file:\n",
    "    file.write(\"hello world.\")\n"
   ]
  },
  {
   "cell_type": "markdown",
   "id": "ee678cfd",
   "metadata": {},
   "source": [
    "## Write a Python program to read an entire text file. "
   ]
  },
  {
   "cell_type": "code",
   "execution_count": null,
   "id": "cdf7ae1a",
   "metadata": {},
   "outputs": [],
   "source": [
    "file_path = \"example.txt\"\n",
    "\n",
    "try:\n",
    "    with open(file_path, \"r\") as file:\n",
    "        file_contents = file.read()\n",
    "\n",
    "        print(\"File Contents:\")\n",
    "        print(file_contents)\n",
    "        \n",
    "except FileNotFoundError:\n",
    "    print(f\"File '{file_path}' not found.\")\n",
    "except Exception as e:\n",
    "    print(f\"An error occurred: {e}\")\n"
   ]
  },
  {
   "cell_type": "markdown",
   "id": "dd46afa5",
   "metadata": {},
   "source": [
    "## Write a Python program to append text to a file and display the text."
   ]
  },
  {
   "cell_type": "code",
   "execution_count": null,
   "id": "c80ebe1f",
   "metadata": {},
   "outputs": [],
   "source": [
    "\n",
    "file_path = \"example.txt\"\n",
    "\n",
    "try:\n",
    "    with open(file_path, \"a\") as file:\n",
    "     \n",
    "        text_to_append = input(\"Enter text to append to the file: \")\n",
    "        file.write(text_to_append + '\\n')\n",
    "\n",
    "    with open(file_path, \"r\") as file:\n",
    "        file_contents = file.read()\n",
    "        \n",
    "       \n",
    "        print(\"\\nUpdated File Contents:\")\n",
    "        print(file_contents)\n",
    "        \n",
    "except FileNotFoundError:\n",
    "    print(f\"File '{file_path}' not found.\")\n",
    "except Exception as e:\n",
    "    print(f\"An error occurred: {e}\")\n"
   ]
  },
  {
   "cell_type": "markdown",
   "id": "52316493",
   "metadata": {},
   "source": [
    "## Write a Python program to read first n lines of a file. "
   ]
  },
  {
   "cell_type": "code",
   "execution_count": 7,
   "id": "23617604",
   "metadata": {},
   "outputs": [
    {
     "name": "stdout",
     "output_type": "stream",
     "text": [
      "enter line5\n",
      "First 5 lines of the file:\n",
      "hello world.suraj ojha is nice guy\n"
     ]
    }
   ],
   "source": [
    "\n",
    "file_path = \"example.txt\"\n",
    "n =int(input(\"enter line\"))\n",
    "\n",
    "try:\n",
    "\n",
    "    with open(file_path, \"r\") as file:\n",
    "        lines = []\n",
    "        for i in range(n):\n",
    "            line = file.readline()\n",
    "            if not line:\n",
    "                break \n",
    "            lines.append(line)\n",
    "        \n",
    "        # Print the first n lines\n",
    "        print(f\"First {n} lines of the file:\")\n",
    "        for line in lines:\n",
    "            print(line, end='')\n",
    "\n",
    "except FileNotFoundError:\n",
    "    print(f\"File '{file_path}' not found.\")\n",
    "except Exception as e:\n",
    "    print(f\"An error occurred: {e}\")\n"
   ]
  },
  {
   "cell_type": "markdown",
   "id": "45dba4dc",
   "metadata": {},
   "source": [
    "## Write a Python program to read last n lines of a file. "
   ]
  },
  {
   "cell_type": "code",
   "execution_count": 9,
   "id": "d36a72b0",
   "metadata": {},
   "outputs": [
    {
     "name": "stdout",
     "output_type": "stream",
     "text": [
      "Last 5 lines of the file:\n",
      "hello world.suraj ojha is nice guy\n"
     ]
    }
   ],
   "source": [
    "\n",
    "file_path = \"example.txt\"  \n",
    "n = 5  \n",
    "\n",
    "try:\n",
    "    \n",
    "    with open(file_path, \"r\") as file:\n",
    "        lines = []\n",
    "        for line in file:\n",
    "            lines.append(line)\n",
    "            if len(lines) > n:\n",
    "                lines.pop(0)  \n",
    "        \n",
    "        print(f\"Last {n} lines of the file:\")\n",
    "        for line in lines:\n",
    "            print(line, end='')\n",
    "\n",
    "except FileNotFoundError:\n",
    "    print(f\"File '{file_path}' not found.\")\n",
    "except Exception as e:\n",
    "    print(f\"An error occurred: {e}\")\n"
   ]
  },
  {
   "cell_type": "markdown",
   "id": "76a74d09",
   "metadata": {},
   "source": [
    "## Write a Python program to read a file line by line and store it into a list"
   ]
  },
  {
   "cell_type": "code",
   "execution_count": 10,
   "id": "3ea8e4e4",
   "metadata": {},
   "outputs": [
    {
     "name": "stdout",
     "output_type": "stream",
     "text": [
      "List of lines from the file:\n",
      "hello world.suraj ojha is nice guy\n"
     ]
    }
   ],
   "source": [
    "\n",
    "file_path = \"example.txt\" \n",
    "try:\n",
    "   \n",
    "    with open(file_path, \"r\") as file:\n",
    "        lines = []\n",
    "        for line in file:\n",
    "            lines.append(line.strip())  \n",
    "        \n",
    "       \n",
    "        print(\"List of lines from the file:\")\n",
    "        for line in lines:\n",
    "            print(line)\n",
    "\n",
    "except FileNotFoundError:\n",
    "    print(f\"File '{file_path}' not found.\")\n",
    "except Exception as e:\n",
    "    print(f\"An error occurred: {e}\")\n"
   ]
  },
  {
   "cell_type": "markdown",
   "id": "589e624c",
   "metadata": {},
   "source": [
    "## Write a Python program to read a file line by line store it into a variable."
   ]
  },
  {
   "cell_type": "code",
   "execution_count": 11,
   "id": "9a6f1553",
   "metadata": {},
   "outputs": [
    {
     "name": "stdout",
     "output_type": "stream",
     "text": [
      "File Contents:\n",
      "hello world.suraj ojha is nice guy\n",
      "\n"
     ]
    }
   ],
   "source": [
    "\n",
    "file_path = \"example.txt\"\n",
    "\n",
    "try:\n",
    "    with open(file_path, \"r\") as file:\n",
    "        file_contents = \"\"\n",
    "        for line in file:\n",
    "            file_contents += line  \n",
    "        print(\"File Contents:\")\n",
    "        print(file_contents)\n",
    "\n",
    "except FileNotFoundError:\n",
    "    print(f\"File '{file_path}' not found.\")\n",
    "except Exception as e:\n",
    "    print(f\"An error occurred: {e}\")\n"
   ]
  },
  {
   "cell_type": "markdown",
   "id": "c5a5e0a9",
   "metadata": {},
   "source": [
    "## Write a Python program to copy the contents of a file to another file. "
   ]
  },
  {
   "cell_type": "code",
   "execution_count": 26,
   "id": "d47a46fb",
   "metadata": {},
   "outputs": [
    {
     "name": "stdout",
     "output_type": "stream",
     "text": [
      "File contents copied successfully!\n"
     ]
    }
   ],
   "source": [
    "\n",
    "source_file_path = \"example.txt\"\n",
    "destination_file_path = \"output.txt\"\n",
    "\n",
    "try:\n",
    "   \n",
    "    with open(source_file_path, \"r\") as source_file:\n",
    "      \n",
    "        with open(destination_file_path, \"w\") as destination_file:\n",
    "           \n",
    "            for line in source_file:\n",
    "                destination_file.write(line)\n",
    "\n",
    "    print(\"File contents copied successfully!\")\n",
    "\n",
    "except FileNotFoundError:\n",
    "    print(\"One of the files was not found.\")\n",
    "except Exception as e:\n",
    "    print(f\"An error occurred: {e}\")\n",
    "    \n"
   ]
  },
  {
   "cell_type": "markdown",
   "id": "056551f3",
   "metadata": {},
   "source": [
    "## Write python program that user to enter only odd numbers, else will raise an exception"
   ]
  },
  {
   "cell_type": "code",
   "execution_count": 13,
   "id": "e2ef3212",
   "metadata": {},
   "outputs": [
    {
     "name": "stdout",
     "output_type": "stream",
     "text": [
      "Enter an odd number (or 'q' to quit): 2\n",
      "Even number entered. Please enter an odd number.\n"
     ]
    }
   ],
   "source": [
    "try:\n",
    "    while True:\n",
    "        user_input = input(\"Enter an odd number (or 'q' to quit): \")\n",
    "\n",
    "        if user_input.lower() == 'q':\n",
    "            break  \n",
    "\n",
    "        number = int(user_input)\n",
    "\n",
    "        if number % 2 == 0:\n",
    "            raise ValueError(\"Even number entered. Please enter an odd number.\")\n",
    "        else:\n",
    "            print(f\"You entered an odd number: {number}\")\n",
    "\n",
    "except ValueError as e:\n",
    "    print(e)\n",
    "except KeyboardInterrupt:\n",
    "    print(\"\\nProgram terminated by the user.\")\n"
   ]
  },
  {
   "cell_type": "markdown",
   "id": "165279e1",
   "metadata": {},
   "source": [
    "## Can one block of except statements handle multiple exception? "
   ]
  },
  {
   "cell_type": "code",
   "execution_count": null,
   "id": "9cc304cc",
   "metadata": {},
   "outputs": [],
   "source": [
    "try:\n",
    "except (ExceptionType1, ExceptionType2, ...) as e:\n",
    "  \n"
   ]
  },
  {
   "cell_type": "code",
   "execution_count": 17,
   "id": "5c4c4de8",
   "metadata": {},
   "outputs": [],
   "source": [
    "try:\n",
    "    x = 11 / 1  \n",
    "except (ZeroDivisionError, ArithmeticError) as e:\n",
    "    print(f\"An error occurred: {e}\")\n"
   ]
  },
  {
   "cell_type": "markdown",
   "id": "759b2c5f",
   "metadata": {},
   "source": [
    "## Explain Exception handling? What is an Error in Python?\n"
   ]
  },
  {
   "cell_type": "code",
   "execution_count": 23,
   "id": "555171f7",
   "metadata": {},
   "outputs": [
    {
     "ename": "ZeroDivisionError",
     "evalue": "division by zero",
     "output_type": "error",
     "traceback": [
      "\u001b[1;31m---------------------------------------------------------------------------\u001b[0m",
      "\u001b[1;31mZeroDivisionError\u001b[0m                         Traceback (most recent call last)",
      "Cell \u001b[1;32mIn[23], line 1\u001b[0m\n\u001b[1;32m----> 1\u001b[0m x \u001b[38;5;241m=\u001b[39m \u001b[38;5;241m10\u001b[39m \u001b[38;5;241m/\u001b[39m \u001b[38;5;241m0\u001b[39m  \u001b[38;5;66;03m# This raises a ZeroDivisionError\u001b[39;00m\n\u001b[0;32m      4\u001b[0m \u001b[38;5;28;01mtry\u001b[39;00m:\n\u001b[0;32m      5\u001b[0m     x \u001b[38;5;241m=\u001b[39m \u001b[38;5;241m10\u001b[39m \u001b[38;5;241m/\u001b[39m \u001b[38;5;241m0\u001b[39m\n",
      "\u001b[1;31mZeroDivisionError\u001b[0m: division by zero"
     ]
    }
   ],
   "source": [
    "x = 10 / 0  # This raises a ZeroDivisionError\n",
    "\n",
    "\n",
    "try:\n",
    "    x = 10 / 0\n",
    "except ZeroDivisionError as e:\n",
    "    print(f\"An error occurred: {e}\")\n"
   ]
  },
  {
   "cell_type": "markdown",
   "id": "503ae851",
   "metadata": {},
   "source": [
    "## Write a Python program to count the number of lines in a text file. "
   ]
  },
  {
   "cell_type": "code",
   "execution_count": 24,
   "id": "9b708d8d",
   "metadata": {},
   "outputs": [
    {
     "name": "stdout",
     "output_type": "stream",
     "text": [
      "Number of lines in the file: 1\n"
     ]
    }
   ],
   "source": [
    "\n",
    "file_path = \"example.txt\"  \n",
    "\n",
    "try:\n",
    "    \n",
    "    with open(file_path, \"r\") as file:\n",
    "        line_count = 0\n",
    "        for line in file:\n",
    "            line_count += 1\n",
    "        \n",
    "        print(f\"Number of lines in the file: {line_count}\")\n",
    "\n",
    "except FileNotFoundError:\n",
    "    print(f\"File '{file_path}' not found.\")\n",
    "except Exception as e:\n",
    "    print(f\"An error occurred: {e}\")\n"
   ]
  },
  {
   "cell_type": "markdown",
   "id": "7dd706b2",
   "metadata": {},
   "source": [
    "## Write a Python program to write a list to a file. "
   ]
  },
  {
   "cell_type": "code",
   "execution_count": 32,
   "id": "ab86375f",
   "metadata": {},
   "outputs": [
    {
     "name": "stdout",
     "output_type": "stream",
     "text": [
      "List written to 'output.txt' successfully.\n"
     ]
    }
   ],
   "source": [
    "\n",
    "file_path = \"output.txt\"  \n",
    "\n",
    "\n",
    "my_list = [\"Apple\", \"Banana\", \"Cherry\", \"Date\", \"Fig\"]\n",
    "\n",
    "try:\n",
    "    \n",
    "    with open(file_path, \"w\") as file:\n",
    "    \n",
    "        for item in my_list:\n",
    "            file.write(item + \"\\n\") \n",
    "\n",
    "    print(f\"List written to '{file_path}' successfully.\")\n",
    "\n",
    "except Exception as e:\n",
    "    print(f\"An error occurred: {e}\")\n"
   ]
  },
  {
   "cell_type": "markdown",
   "id": "452eb320",
   "metadata": {},
   "source": [
    "# Explain Inheritance in Python with an example?What is init? Or What Is A Constructor In Python? \n",
    "\n"
   ]
  },
  {
   "cell_type": "code",
   "execution_count": 37,
   "id": "31e4daf2",
   "metadata": {},
   "outputs": [
    {
     "name": "stdout",
     "output_type": "stream",
     "text": [
      "Hi, I'm Alice and I'm 20 years old. My student ID is 12345.\n"
     ]
    }
   ],
   "source": [
    "class Person:\n",
    "    def __init__(self, name, age):\n",
    "        self.name = name\n",
    "        self.age = age\n",
    "\n",
    "    def introduce(self):\n",
    "        return f\"Hi, I'm {self.name} and I'm {self.age} years old.\"\n",
    "\n",
    "class Student(Person):\n",
    "    def __init__(self, name, age, student_id):\n",
    "        super().__init__(name, age)\n",
    "        self.student_id = student_id\n",
    "\n",
    "    def student_info(self):\n",
    "        return f\"{self.introduce()} My student ID is {self.student_id}.\"\n",
    "\n",
    "student1 = Student(\"Alice\", 20, \"12345\")\n",
    "print(student1.student_info())\n",
    "\n",
    "\n"
   ]
  },
  {
   "cell_type": "markdown",
   "id": "a498a822",
   "metadata": {},
   "source": [
    "# Write a python program to find the longest words."
   ]
  },
  {
   "cell_type": "code",
   "execution_count": 40,
   "id": "efbdc1ae",
   "metadata": {},
   "outputs": [
    {
     "name": "stdout",
     "output_type": "stream",
     "text": [
      "Longest word(s) in the text:\n",
      "'hippopotamus'\n"
     ]
    }
   ],
   "source": [
    "\n",
    "def find_longest_words(text):\n",
    "    words = text.split()\n",
    "    \n",
    "\n",
    "    longest_words = []\n",
    "    max_length = 0\n",
    "\n",
    "  \n",
    "    for word in words:\n",
    "        word = word.strip(\".,!?\") \n",
    "        if len(word) > max_length:\n",
    "            max_length = len(word)\n",
    "            longest_words = [word]\n",
    "        elif len(word) == max_length:\n",
    "            longest_words.append(word)\n",
    "\n",
    "    return longest_words\n",
    "text = \"This is a sample sentence with some long words, like 'elephant', 'giraffe', and 'hippopotamus'.\"\n",
    "longest_words = find_longest_words(text)\n",
    "if longest_words:\n",
    "    print(\"Longest word(s) in the text:\")\n",
    "    for word in longest_words:\n",
    "        print(word)\n",
    "else:\n",
    "    print(\"No words found in the text.\")\n"
   ]
  },
  {
   "cell_type": "markdown",
   "id": "cbbc881b",
   "metadata": {},
   "source": [
    "# How to Define a Class in Python? What Is Self? Give An Example Of A Python Class\n",
    ".\n"
   ]
  },
  {
   "cell_type": "code",
   "execution_count": 46,
   "id": "2576eaf5",
   "metadata": {},
   "outputs": [
    {
     "name": "stdout",
     "output_type": "stream",
     "text": [
      "Buddy is a Canis familiaris\n",
      "Buddy is 3 years old.\n",
      "Buddy says Woof!\n"
     ]
    }
   ],
   "source": [
    "class Dog:\n",
    " \n",
    "    species = \"Canis familiaris\"\n",
    "    def __init__(self, name, age):\n",
    "        self.name = name  # Instance variable\n",
    "        self.age = age\n",
    "\n",
    "    def description(self):\n",
    "        return f\"{self.name} is {self.age} years old.\"\n",
    "\n",
    "    def speak(self, sound):\n",
    "        return f\"{self.name} says {sound}\"\n",
    "    \n",
    "buddy = Dog(\"Buddy\", 3)\n",
    "\n",
    "\n",
    "print(f\"{buddy.name} is a {buddy.species}\")\n",
    "print(buddy.description())\n",
    "print(buddy.speak(\"Woof!\"))\n",
    "\n"
   ]
  },
  {
   "cell_type": "markdown",
   "id": "f856028b",
   "metadata": {},
   "source": [
    "# Write a Python class named Rectangle constructed by a length and width and a method which will compute the area of a rectangle"
   ]
  },
  {
   "cell_type": "code",
   "execution_count": 48,
   "id": "509ca5ef",
   "metadata": {},
   "outputs": [
    {
     "name": "stdout",
     "output_type": "stream",
     "text": [
      "enter length20\n",
      "The area of the rectangle is 200 square units.\n"
     ]
    }
   ],
   "source": [
    "class Rectangle:\n",
    "    def __init__(self, length, width):\n",
    "        self.length = int(input(\"enter length\"))\n",
    "        self.width = int(input(\"enter width\"))\n",
    "\n",
    "    def compute_area(self):\n",
    "        return self.length * self.width\n",
    "\n",
    "rectangle1 = Rectangle(5, 10)\n",
    "\n",
    "area = rectangle1.compute_area()\n",
    "\n",
    "print(f\"The area of the rectangle is {area} square units.\")\n"
   ]
  },
  {
   "cell_type": "markdown",
   "id": "e627277a",
   "metadata": {},
   "source": [
    "## Explain Exception handling? What is an Error in Python? "
   ]
  },
  {
   "cell_type": "code",
   "execution_count": 49,
   "id": "f64d868d",
   "metadata": {},
   "outputs": [
    {
     "name": "stdout",
     "output_type": "stream",
     "text": [
      "An error occurred: division by zero\n"
     ]
    }
   ],
   "source": [
    "try:\n",
    "    num = 10 / 0  # This will raise a ZeroDivisionError\n",
    "except ZeroDivisionError as e:\n",
    "    print(f\"An error occurred: {e}\")\n",
    "except Exception as e:\n",
    "    print(f\"Another error occurred: {e}\")\n"
   ]
  },
  {
   "cell_type": "markdown",
   "id": "bed33f31",
   "metadata": {},
   "source": [
    "## How many except statements can a try-except block have? Name Some built-in exception classes: "
   ]
  },
  {
   "cell_type": "code",
   "execution_count": 50,
   "id": "07b1d1b9",
   "metadata": {},
   "outputs": [
    {
     "name": "stdout",
     "output_type": "stream",
     "text": [
      "ZeroDivisionError: division by zero\n"
     ]
    }
   ],
   "source": [
    "try:\n",
    "    \n",
    "    result = 10 / 0\n",
    "except ZeroDivisionError as e:\n",
    "  \n",
    "    print(\"ZeroDivisionError:\", e)\n",
    "except ValueError as e:\n",
    "   \n",
    "    print(\"ValueError:\", e)\n",
    "except Exception as e:\n",
    "\n",
    "    print(\"An error occurred:\", e)\n"
   ]
  },
  {
   "cell_type": "markdown",
   "id": "9d89a755",
   "metadata": {},
   "source": [
    "## Write python program that user to enter only odd numbers, else will raise an exception. "
   ]
  },
  {
   "cell_type": "code",
   "execution_count": 51,
   "id": "fb017904",
   "metadata": {},
   "outputs": [
    {
     "name": "stdout",
     "output_type": "stream",
     "text": [
      "Enter an odd number (or 'q' to quit): 20\n",
      "Even number entered. Please enter an odd number.\n"
     ]
    }
   ],
   "source": [
    "try:\n",
    "    while True:\n",
    "        user_input = input(\"Enter an odd number (or 'q' to quit): \")\n",
    "\n",
    "        if user_input.lower() == 'q':\n",
    "            break \n",
    "\n",
    "        number = int(user_input)\n",
    "\n",
    "        if number % 2 == 0:\n",
    "            raise ValueError(\"Even number entered. Please enter an odd number.\")\n",
    "        else:\n",
    "            print(f\"You entered an odd number: {number}\")\n",
    "\n",
    "except ValueError as e:\n",
    "    print(e)\n",
    "except KeyboardInterrupt:\n",
    "    print(\"\\nProgram terminated by the user.\")\n"
   ]
  },
  {
   "cell_type": "markdown",
   "id": "e8497bda",
   "metadata": {},
   "source": [
    "## Write a Python class named Circle constructed by a radius and two methods which will compute the area and the perimeter of a circle "
   ]
  },
  {
   "cell_type": "code",
   "execution_count": null,
   "id": "2a6c509d",
   "metadata": {},
   "outputs": [],
   "source": [
    "import math\n",
    "\n",
    "class Circle:\n",
    "    def __init__(self, radius):\n",
    "        self.radius = radius\n",
    "\n",
    "    def compute_area(self):\n",
    "        return math.pi * self.radius ** 2\n",
    "\n",
    "    def compute_perimeter(self):\n",
    "        return 2 * math.pi * self.radius\n",
    "\n",
    "s\n",
    "circle1 = Circle(5)\n",
    "\n",
    "area = circle1.compute_area()\n",
    "perimeter = circle1.compute_perimeter()\n",
    "\n",
    "\n",
    "print(f\"The area of the circle is {area:.2f} square units.\")\n",
    "print(f\"The perimeter of the circle is {perimeter:.2f} units.\")\n",
    "\n",
    "\n",
    "\n",
    "\n"
   ]
  },
  {
   "cell_type": "markdown",
   "id": "fc384afd",
   "metadata": {},
   "source": [
    "## Explain Inheritance in Python with an example? What is init? Or What Is A Constructor In Python? "
   ]
  },
  {
   "cell_type": "code",
   "execution_count": null,
   "id": "242666cb",
   "metadata": {},
   "outputs": [],
   "source": [
    "class Vehicle:\n",
    "    def __init__(self, make, model, year):\n",
    "        self.make = make\n",
    "        self.model = model\n",
    "        self.year = year\n",
    "\n",
    "    def display_info(self):\n",
    "        return f\"{self.year} {self.make} {self.model}\"\n",
    "\n",
    "class Car(Vehicle):\n",
    "    def __init__(self, make, model, year, color):\n",
    "        super().__init__(make, model, year)\n",
    "        self.color = color\n",
    "\n",
    "    def honk(self):\n",
    "        return \"Beep! Beep!\"\n",
    "\n",
    "# Creating an instance of the Car class\n",
    "my_car = Car(\"Toyota\", \"Camry\", 2022, \"Blue\")\n",
    "\n",
    "# Accessing attributes and methods\n",
    "print(my_car.display_info())\n",
    "print(my_car.honk())\n",
    "\n"
   ]
  },
  {
   "cell_type": "markdown",
   "id": "ca9350b1",
   "metadata": {},
   "source": [
    "## What is Instantiation in terms of OOP terminology?\n",
    "\n"
   ]
  },
  {
   "cell_type": "code",
   "execution_count": null,
   "id": "e4204924",
   "metadata": {},
   "outputs": [],
   "source": [
    "class Dog:\n",
    "    def __init__(self, name, age):\n",
    "        self.name = name\n",
    "        self.age = age\n",
    "\n",
    "# Instantiation of the Dog class to create specific dog objects\n",
    "dog1 = Dog(\"Buddy\", 3)\n",
    "dog2 = Dog(\"Max\", 5)\n",
    "\n"
   ]
  },
  {
   "cell_type": "code",
   "execution_count": null,
   "id": "b8e896cb",
   "metadata": {},
   "outputs": [],
   "source": []
  }
 ],
 "metadata": {
  "kernelspec": {
   "display_name": "Python 3 (ipykernel)",
   "language": "python",
   "name": "python3"
  },
  "language_info": {
   "codemirror_mode": {
    "name": "ipython",
    "version": 3
   },
   "file_extension": ".py",
   "mimetype": "text/x-python",
   "name": "python",
   "nbconvert_exporter": "python",
   "pygments_lexer": "ipython3",
   "version": "3.11.3"
  },
  "vscode": {
   "interpreter": {
    "hash": "2043299c89c8cd0b4d1a6f5cf4529bd58e6a4e0fe3181a25e0d328c821cdc5c5"
   }
  }
 },
 "nbformat": 4,
 "nbformat_minor": 5
}

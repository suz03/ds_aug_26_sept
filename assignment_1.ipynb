{
 "cells": [
  {
   "cell_type": "markdown",
   "id": "fb933f7e",
   "metadata": {},
   "source": [
    "# Python Assignment - 1\n",
    "#### Carries 30 marks"
   ]
  },
  {
   "cell_type": "markdown",
   "id": "b4896514",
   "metadata": {},
   "source": [
    "### Write a Python program to sum of three given integers. However, if two values are equal sum will be zero."
   ]
  },
  {
   "cell_type": "code",
   "execution_count": null,
   "id": "230cee62",
   "metadata": {},
   "outputs": [],
   "source": [
    "\n",
    "a = int(input(\"Enter the first integer: \"))\n",
    "b = int(input(\"Enter the second integer: \"))\n",
    "c = int(input(\"Enter the third integer: \"))\n",
    "\n",
    "\n",
    "if a == b or b == c or a == c:\n",
    "    result = 0\n",
    "else:\n",
    "    result = a + b + c\n",
    "\n",
    "print(\"Sum of the three integers:\", result)\n"
   ]
  },
  {
   "cell_type": "markdown",
   "id": "44498b23",
   "metadata": {},
   "source": [
    "### Write a Python program to test whether a passed letter is a vowel or not."
   ]
  },
  {
   "cell_type": "code",
   "execution_count": 9,
   "id": "5800a1e9",
   "metadata": {},
   "outputs": [
    {
     "name": "stdout",
     "output_type": "stream",
     "text": [
      "Enter a letter: O\n",
      "O is a vowel.\n"
     ]
    }
   ],
   "source": [
    "# Input a letter from the user\n",
    "letter = input(\"Enter a letter: \")\n",
    "\n",
    "# Check if the letter is a vowel\n",
    "if letter == 'a'or'A' or letter == 'e'or'E' or letter == 'i'or'I' or letter == 'o'or'O' or letter == 'u'or'U':\n",
    "    print(f\"{letter} is a vowel.\")\n",
    "else:\n",
    "    print(f\"{letter} is not a vowel.\")\n",
    "    \n"
   ]
  },
  {
   "cell_type": "markdown",
   "id": "999e1c55",
   "metadata": {},
   "source": [
    "### Write python program that swap two number with temp variable and without temp variable."
   ]
  },
  {
   "cell_type": "code",
   "execution_count": 10,
   "id": "71b08ddf",
   "metadata": {},
   "outputs": [
    {
     "name": "stdout",
     "output_type": "stream",
     "text": [
      "Enter the first number: 9\n",
      "Enter the second number: 0\n",
      "First number: 0\n",
      "Second number: 9\n",
      "Enter the first number: 5\n",
      "Enter the second number: 6\n",
      "After swapping (without temp variable):\n",
      "First number: 6.0\n",
      "Second number: 5.0\n"
     ]
    }
   ],
   "source": [
    "# Input two numbers from the user\n",
    "a = int(input(\"Enter the first number: \"))\n",
    "b = int(input(\"Enter the second number: \"))\n",
    "\n",
    "temp = a\n",
    "a = b\n",
    "b = temp\n",
    "\n",
    "print(\"First number:\", a)\n",
    "print(\"Second number:\", b)\n",
    "\n",
    "\n",
    "\n",
    "\n",
    "\n",
    "\n",
    "\n",
    "\n",
    "\n",
    "\n",
    "\n",
    "without temp variable\n",
    "\n",
    "\n",
    "a = float(input(\"Enter the first number: \"))\n",
    "b = float(input(\"Enter the second number: \"))\n",
    "\n",
    "\n",
    "a = a + b\n",
    "b = a - b\n",
    "a = a - b\n",
    "\n",
    "\n",
    "print(\"After swapping (without temp variable):\")\n",
    "print(\"First number:\", a)\n",
    "print(\"Second number:\", b)\n",
    "\n"
   ]
  },
  {
   "cell_type": "markdown",
   "id": "d9805ba4",
   "metadata": {},
   "source": [
    "### Write a Python program to calculate the length of a string."
   ]
  },
  {
   "cell_type": "code",
   "execution_count": 11,
   "id": "df81befe",
   "metadata": {},
   "outputs": [
    {
     "name": "stdout",
     "output_type": "stream",
     "text": [
      "Enter a string: ram\n",
      "Length of the string: 3\n"
     ]
    }
   ],
   "source": [
    "\n",
    "string = input(\"Enter a string: \")\n",
    "\n",
    "\n",
    "length = len(string)\n",
    "\n",
    "print(\"Length of the string:\", length)\n",
    "\n"
   ]
  },
  {
   "cell_type": "markdown",
   "id": "99144e41",
   "metadata": {},
   "source": [
    "### Write a Python program to find whether a given number is even or odd,print out an appropriate message to the user."
   ]
  },
  {
   "cell_type": "code",
   "execution_count": null,
   "id": "dbbf15d7",
   "metadata": {},
   "outputs": [],
   "source": [
    "\n",
    "number = int(input(\"Enter a number: \"))\n",
    "\n",
    "if number % 2 == 0:\n",
    "    print(f\"{number} is even.\")\n",
    "else:\n",
    "    print(f\"{number} is odd.\")\n"
   ]
  },
  {
   "cell_type": "markdown",
   "id": "0a560977",
   "metadata": {},
   "source": [
    "### write a programme to find biggest number of given three values."
   ]
  },
  {
   "cell_type": "code",
   "execution_count": null,
   "id": "4f3fa091",
   "metadata": {},
   "outputs": [],
   "source": [
    "\n",
    "num1 = float(input(\"Enter the first number: \"))\n",
    "num2 = float(input(\"Enter the second number: \"))\n",
    "num3 = float(input(\"Enter the third number: \"))\n",
    "\n",
    "if num1 >= num2 and num1 >= num3:\n",
    "    largest = num1\n",
    "elif num2 >= num1 and num2 >= num3:\n",
    "    largest = num2\n",
    "else:\n",
    "    largest = num3\n",
    "\n",
    "print(\"The largest number is:\", largest)\n"
   ]
  },
  {
   "cell_type": "markdown",
   "id": "5327a33b",
   "metadata": {},
   "source": [
    "### Write a Python program that will return true if the two given integer values are equal or their sum or difference is 5."
   ]
  },
  {
   "cell_type": "code",
   "execution_count": null,
   "id": "1aa41bcc",
   "metadata": {},
   "outputs": [],
   "source": [
    "\n",
    "num1 = int(input(\"Enter the first integer: \"))\n",
    "num2 = int(input(\"Enter the second integer: \"))\n",
    "\n",
    "\n",
    "if num1 == num2 or num1 + num2 == 5 or abs(num1 - num2) == 5:\n",
    "    result = True\n",
    "else:\n",
    "    result = False\n",
    "\n",
    "print(\"Result:\", result)\n"
   ]
  },
  {
   "cell_type": "markdown",
   "id": "b1075328",
   "metadata": {},
   "source": [
    "### Write a python program to sum of the first n positive integers."
   ]
  },
  {
   "cell_type": "code",
   "execution_count": 26,
   "id": "5d474698",
   "metadata": {},
   "outputs": [
    {
     "name": "stdout",
     "output_type": "stream",
     "text": [
      "Enter a positive integer: 6\n",
      "The sum of the first 6 positive integers is 21.\n"
     ]
    }
   ],
   "source": [
    "n = int(input(\"Enter a positive integer: \"))\n",
    "sum_of_integers = 0\n",
    "if n <= 0:\n",
    "    print(\"Please enter a positive integer.\")\n",
    "else:\n",
    "\n",
    "    for i in range(1, n + 1):\n",
    "        sum_of_integers += i\n",
    "\n",
    "    print(f\"The sum of the first {n} positive integers is {sum_of_integers}.\")\n",
    "\n",
    "    \n",
    "    \n",
    "    \n",
    "\n",
    "    \n",
    "    \n",
    "    \n",
    "    "
   ]
  },
  {
   "cell_type": "markdown",
   "id": "e480000b",
   "metadata": {},
   "source": [
    "### Write a Python program to calculate the length of a string."
   ]
  },
  {
   "cell_type": "code",
   "execution_count": null,
   "id": "e154e64e",
   "metadata": {},
   "outputs": [],
   "source": [
    "input_string = input(\"Enter a string: \")\n",
    "\n",
    "length = len(input_string)\n",
    "\n",
    "print(f\"The length of the string is {length}.\")\n"
   ]
  },
  {
   "cell_type": "markdown",
   "id": "83f1be28",
   "metadata": {},
   "source": [
    "### What is the purpose continue statement in python?"
   ]
  },
  {
   "cell_type": "code",
   "execution_count": null,
   "id": "abb0ca64",
   "metadata": {},
   "outputs": [],
   "source": [
    "continue statement is to control the flow of a loop based on specific conditions.\n"
   ]
  },
  {
   "cell_type": "markdown",
   "id": "728d8b7a",
   "metadata": {},
   "source": [
    "### Write a Python program to add 'ing' at the end of a given string (length should be at least 3). If the given string already ends with 'ing' then add 'ly' instead if the string length of the given string is less than 3, leave it unchanged.\n"
   ]
  },
  {
   "cell_type": "code",
   "execution_count": 27,
   "id": "c90c977e",
   "metadata": {},
   "outputs": [
    {
     "name": "stdout",
     "output_type": "stream",
     "text": [
      "Enter a string: play\n",
      "Modified string: playing\n"
     ]
    }
   ],
   "source": [
    "\n",
    "input_string = input(\"Enter a string: \")\n",
    "\n",
    "if len(input_string) >= 3 and input_string.endswith('ing'):\n",
    "    modified_string = input_string + 'ly'\n",
    "elif len(input_string) >= 3:\n",
    "    modified_string = input_string + 'ing'\n",
    "else:\n",
    "    modified_string = input_string\n",
    "\n",
    "print(\"Modified string:\", modified_string)\n",
    "\n",
    "\n"
   ]
  },
  {
   "cell_type": "markdown",
   "id": "78208ba5",
   "metadata": {},
   "source": [
    "### Write a Python program to find the first appearance of the substring 'not' and 'poor' from a given string, if 'not' follows the 'poor', replace the whole 'not'...'poor' substring with 'good'. Return the resulting string"
   ]
  },
  {
   "cell_type": "code",
   "execution_count": 32,
   "id": "7d8711c7",
   "metadata": {},
   "outputs": [
    {
     "name": "stdout",
     "output_type": "stream",
     "text": [
      "Enter a string: The weather is raining\n",
      "Modified string: The weather is raining\n"
     ]
    }
   ],
   "source": [
    "\n",
    "input_string = input(\"Enter a string: \")\n",
    "\n",
    "not_index = input_string.find('not')\n",
    "poor_index = input_string.find('poor')\n",
    "\n",
    "if not_index != -1 and poor_index != -1 and not_index > poor_index:\n",
    "   \n",
    "    modified_string = input_string[:poor_index] + 'good' + input_string[not_index + 3:]\n",
    "else:\n",
    "    modified_string = input_string\n",
    "\n",
    "print(\"Modified string:\", modified_string)\n",
    "\n",
    "\n",
    "\n",
    "\n",
    "\n",
    "\n",
    "\n"
   ]
  },
  {
   "cell_type": "markdown",
   "id": "7f264574",
   "metadata": {},
   "source": [
    "### Write a Python function to insert a string in the middle of a string."
   ]
  },
  {
   "cell_type": "code",
   "execution_count": null,
   "id": "f4a4cffe",
   "metadata": {},
   "outputs": [],
   "source": [
    "def insert_in_middle(original_string, insert_string):\n",
    "  \n",
    "    middle_index = len(original_string) // 2\n",
    "    \n",
    "\n",
    "    result_string = original_string[:middle_index] + insert_string + original_string[middle_index:]\n",
    "    \n",
    "    return result_string\n",
    "\n",
    "\n",
    "original_string = \"Hello, world!\"\n",
    "insert_string = \"Python\"\n",
    "result = insert_in_middle(original_string, insert_string)\n",
    "print(result)\n"
   ]
  },
  {
   "cell_type": "markdown",
   "id": "5435ccd0",
   "metadata": {},
   "source": [
    "### reverses a string if its length is a multiple of 4."
   ]
  },
  {
   "cell_type": "code",
   "execution_count": null,
   "id": "e3554c81",
   "metadata": {},
   "outputs": [],
   "source": [
    "def reverse_string_if_multiple_of_4(input_string):\n",
    "    if len(input_string) % 4 == 0:\n",
    "        return input_string[::-1]\n",
    "    else:\n",
    "        return input_string\n",
    "\n",
    "\n",
    "original_string = \"abcde\"\n",
    "result = reverse_string_if_multiple_of_4(original_string)\n",
    "print(result)\n"
   ]
  },
  {
   "cell_type": "markdown",
   "id": "48d8671f",
   "metadata": {},
   "source": [
    "### Write a Python program to get a string made of the first 2 and the last 2 chars from a given a string. If the string length is less than 2, return instead of the empty string."
   ]
  },
  {
   "cell_type": "code",
   "execution_count": null,
   "id": "b9907390",
   "metadata": {},
   "outputs": [],
   "source": [
    "input_string = input(\"Enter a string: \")\n",
    "\n",
    "if len(input_string) < 2:\n",
    "    result_string = \"\"\n",
    "else:\n",
    "  \n",
    "    first_two_chars = input_string[:2]\n",
    "\n",
    "    last_two_chars = input_string[-2:]\n",
    " \n",
    "    result_string = first_two_chars + last_two_chars\n",
    "\n",
    "\n",
    "print(\"Resulting string:\", result_string)\n"
   ]
  },
  {
   "cell_type": "markdown",
   "id": "f0b39584",
   "metadata": {},
   "source": [
    "### Write a Python program to get a single string from two given strings, separated by a space and swap the first two characters of each string."
   ]
  },
  {
   "cell_type": "code",
   "execution_count": null,
   "id": "e3e383d3",
   "metadata": {},
   "outputs": [],
   "source": [
    "\n",
    "string1 = input(\"Enter the first string: \")\n",
    "string2 = input(\"Enter the second string: \")\n",
    "\n",
    "\n",
    "if len(string1) >= 2 and len(string2) >= 2:\n",
    "   \n",
    "    swapped_string1 = string2[:2] + string1[2:]\n",
    "    swapped_string2 = string1[:2] + string2[2:]\n",
    "    \n",
    "   \n",
    "    result_string = swapped_string1 + \" \" + swapped_string2\n",
    "else:http://localhost:8888/notebooks/Desktop/16260430/DS%20Aug%20-%2017th%20Sep/assignment_1.ipynb#Write-a-Python-program-to-get-the-Fibonacci-series-of-given-range.\n",
    "\n",
    "    result_string = string1 + \" \" + string2\n",
    "\n",
    "\n",
    "print(\"Resulting string:\", result_string)\n"
   ]
  },
  {
   "cell_type": "markdown",
   "id": "323a62d0",
   "metadata": {},
   "source": [
    "### Write a Python program to get the Fibonacci series of given range."
   ]
  },
  {
   "cell_type": "code",
   "execution_count": null,
   "id": "057b2df5",
   "metadata": {},
   "outputs": [],
   "source": [
    "n = int(input(\"Enter the number of terms in the Fibonacci series: \"))\n",
    "\n",
    "fibonacci_series = [0, 1]\n",
    "\n",
    "\n",
    "while len(fibonacci_series) < n:\n",
    "    next_term = fibonacci_series[-1] + fibonacci_series[-2]\n",
    "    fibonacci_series.append(next_term)\n",
    "\n",
    "print(\"Fibonacci series:\")\n",
    "for num in fibonacci_series:\n",
    "    print(num, end=\" \")\n"
   ]
  },
  {
   "cell_type": "markdown",
   "id": "d9013007",
   "metadata": {},
   "source": [
    "### Write a Python program to get the Factorial number of given number"
   ]
  },
  {
   "cell_type": "code",
   "execution_count": null,
   "id": "da6371ef",
   "metadata": {},
   "outputs": [],
   "source": [
    "\n",
    "n = int(input(\"Enter a number: \"))\n",
    "\n",
    "\n",
    "factorial = 1\n",
    "\n",
    "if n < 0:\n",
    "    print(\"Factorial is not defined for negative numbers.\")\n",
    "elif n == 0:\n",
    "    print(\"The factorial of 0 is 1.\")\n",
    "else:\n",
    "\n",
    "    for i in range(1, n + 1):\n",
    "        factorial *= i\n",
    "\n",
    "    print(f\"The factorial of {n} is {factorial}.\")\n"
   ]
  },
  {
   "cell_type": "markdown",
   "id": "81819365",
   "metadata": {},
   "source": [
    "### Write a Python program to check if a number is positive, negative or zero"
   ]
  },
  {
   "cell_type": "code",
   "execution_count": null,
   "id": "fc38fb6e",
   "metadata": {},
   "outputs": [],
   "source": [
    "\n",
    "number = float(input(\"Enter a number: \"))\n",
    "\n",
    "if number > 0:\n",
    "    print(\"The number is positive.\")\n",
    "elif number < 0:\n",
    "    print(\"The number is negative.\")\n",
    "else:\n",
    "    print(\"The number is zero.\")\n"
   ]
  },
  {
   "cell_type": "markdown",
   "id": "7defed1a",
   "metadata": {},
   "source": [
    "##  How memory is managed in Python?\n"
   ]
  },
  {
   "cell_type": "code",
   "execution_count": null,
   "id": "4093ff55",
   "metadata": {},
   "outputs": [],
   "source": [
    "x = 10\n",
    "y = x\n",
    "\n",
    "if id(x) == id(y):\n",
    "\tprint(\"x and y refer to the same object\")\n"
   ]
  },
  {
   "cell_type": "code",
   "execution_count": null,
   "id": "0b30663f",
   "metadata": {},
   "outputs": [],
   "source": [
    "Reference Counting: Python uses reference counting to keep track of how many references (or pointers) exist for each object. When the reference count for an object drops to zero, meaning there are no more references to it, the memory occupied by the object is automatically deallocated (i.e., garbage collected).\n",
    "\n",
    "Garbage Collection: While reference counting is a straightforward and fast mechanism, it has limitations. It cannot detect and collect circular references (objects referencing each other in a cycle). To address this, Python includes a cyclic garbage collector that identifies and reclaims memory occupied by objects involved in circular references.\n",
    "\n",
    "Memory Pools: Python manages memory through a system of memory pools, where memory blocks of different sizes are allocated. These pools help reduce memory fragmentation and improve performance.\n",
    "\n",
    "Automatic Memory Management: Python automatically manages memory, so developers do not need to explicitly allocate or deallocate memory as in languages like C or C++. This feature reduces the risk of memory leaks and simplifies memory management.\n",
    "\n",
    "Reference Counting and Garbage Collection Integration: Python combines reference counting with garbage collection. Reference counting handles most memory management efficiently, while the garbage collector is used as a backup to handle cyclic references.\n",
    "\n",
    "Dynamic Typing: Python is a dynamically typed language, which means variables can change their type at runtime. To accommodate this, Python's memory manager must be flexible in managing objects with varying data types.\n",
    "\n",
    "Memory Optimizations: Python provides various memory optimization techniques, such as sharing the memory for small integers and reusing immutable objects like strings and tuples.\n",
    "\n",
    "Memory Profiling Tools: Python offers tools and libraries for memory profiling and leak detection, such as the memory_profiler and objgraph modules."
   ]
  }
 ],
 "metadata": {
  "kernelspec": {
   "display_name": "Python 3 (ipykernel)",
   "language": "python",
   "name": "python3"
  },
  "language_info": {
   "codemirror_mode": {
    "name": "ipython",
    "version": 3
   },
   "file_extension": ".py",
   "mimetype": "text/x-python",
   "name": "python",
   "nbconvert_exporter": "python",
   "pygments_lexer": "ipython3",
   "version": "3.11.3"
  }
 },
 "nbformat": 4,
 "nbformat_minor": 5
}

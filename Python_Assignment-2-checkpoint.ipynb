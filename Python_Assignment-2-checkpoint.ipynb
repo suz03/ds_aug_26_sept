{
 "cells": [
  {
   "cell_type": "markdown",
   "id": "8d7ab3bd",
   "metadata": {},
   "source": [
    "# Python Assignment - 2\n",
    "### Total - 30 marks"
   ]
  },
  {
   "cell_type": "markdown",
   "id": "6984940a",
   "metadata": {},
   "source": [
    "#### 1. Create a list of student and their subjects and then print the count of the subjects each student is having."
   ]
  },
  {
   "cell_type": "markdown",
   "id": "2167cbb2",
   "metadata": {},
   "source": [
    "Ex: List should be of the this format \n",
    " [('Justin', ['Math', 'CompSci']),\n",
    " ('Eden', ['CompSci', 'Accounting', 'Economics'])]\n",
    " \n",
    " and the output be like,\n",
    " \n",
    "Justin takes 2 subjects\n",
    "Eden takes 3 subjects"
   ]
  },
  {
   "cell_type": "code",
   "execution_count": 3,
   "id": "c7115c59",
   "metadata": {},
   "outputs": [
    {
     "name": "stdout",
     "output_type": "stream",
     "text": [
      "Justin takes 2 subjects\n",
      "Eden takes 3 subjects\n"
     ]
    }
   ],
   "source": [
    "student_subjects = [\n",
    "    ('Justin', ['Math', 'CompSci']),\n",
    "    ('Eden', ['CompSci', 'Accounting', 'Economics'])\n",
    "]\n",
    "for student, subjects in student_subjects:\n",
    "    subject_count = len(subjects)\n",
    "    print(f\"{student} takes {subject_count} subjects\")\n",
    "    "
   ]
  },
  {
   "cell_type": "markdown",
   "id": "44bb9ea8",
   "metadata": {},
   "source": [
    "#### 2. Count the total number of digits in a number (ex: A mobile number)"
   ]
  },
  {
   "cell_type": "markdown",
   "id": "1d2ab3cb",
   "metadata": {},
   "source": [
    "Ex:\n",
    "number be like some random mobile number,\n",
    "\n",
    "9848000000\n",
    "\n",
    "the count of the this should be 10"
   ]
  },
  {
   "cell_type": "code",
   "execution_count": 4,
   "id": "747e9a6d",
   "metadata": {},
   "outputs": [
    {
     "name": "stdout",
     "output_type": "stream",
     "text": [
      "The total number of digits in the mobile number is: 10\n"
     ]
    }
   ],
   "source": [
    "# You can Code here for the above problem:\n",
    "\n",
    "mobile_number = \"9848000000\"\n",
    "\n",
    "\n",
    "num_digits = len(mobile_number)\n",
    "\n",
    "print(f\"The total number of digits in the mobile number is: {num_digits}\")\n",
    "\n"
   ]
  },
  {
   "cell_type": "markdown",
   "id": "3502e833",
   "metadata": {},
   "source": [
    "#### 3. Create a for loop that prompts the user for a skill 3 times, then print the appended skills."
   ]
  },
  {
   "cell_type": "code",
   "execution_count": 5,
   "id": "dd835b29",
   "metadata": {},
   "outputs": [
    {
     "name": "stdout",
     "output_type": "stream",
     "text": [
      "Enter skill 1: suraj\n",
      "Enter skill 2: ojha\n",
      "Enter skill 3: chanda\n",
      "Appended skills: ['suraj', 'ojha', 'chanda']\n"
     ]
    }
   ],
   "source": [
    "# You can Code here for the above problem:\n",
    "# Initialize an empty list to store the skills\n",
    "skills = []\n",
    "\n",
    "for i in range(3):\n",
    "    skill = input(f\"Enter skill {i + 1}: \")\n",
    "    skills.append(skill)\n",
    "\n",
    "print(\"Appended skills:\", skills)\n",
    "\n"
   ]
  },
  {
   "cell_type": "markdown",
   "id": "309395ff",
   "metadata": {},
   "source": [
    "#### 4. Define your commercial computation program with hourly rate for usual timings and extra for overtime. Create a function called commercials_calculator which takes two parameters (hours and rate).\n",
    "\n",
    "Enter Hours: 45\n",
    "\n",
    "Enter Rate: 10\n",
    "\n",
    "Pay: 475.0"
   ]
  },
  {
   "cell_type": "code",
   "execution_count": 5,
   "id": "fe142f76",
   "metadata": {},
   "outputs": [],
   "source": [
    "# You can Code here for the above problem:\n"
   ]
  },
  {
   "cell_type": "code",
   "execution_count": 10,
   "id": "48928dc7",
   "metadata": {},
   "outputs": [
    {
     "name": "stdout",
     "output_type": "stream",
     "text": [
      "Enter Hours: 45\n",
      "Enter Rate: 10\n",
      "Pay: 475.0\n"
     ]
    }
   ],
   "source": [
    "def commercials_calculator(hours, rate):\n",
    "    if hours <= 40:\n",
    "        pay = hours * rate\n",
    "    else:\n",
    "        regular_hours = 40\n",
    "        overtime_hours = hours - regular_hours\n",
    "        pay = (regular_hours * rate) + (overtime_hours * rate * 1.5)\n",
    "    return pay\n",
    "try:\n",
    "    hours = float(input(\"Enter Hours: \"))\n",
    "    rate = float(input(\"Enter Rate: \"))\n",
    "    total_pay = commercials_calculator(hours, rate)\n",
    "    print(\"Pay:\", total_pay)\n",
    "except ValueError:\n",
    "    print(\"Please enter valid numeric values for hours and rate.\")\n",
    "    \n",
    "    "
   ]
  },
  {
   "cell_type": "code",
   "execution_count": null,
   "id": "225480ef",
   "metadata": {},
   "outputs": [],
   "source": []
  }
 ],
 "metadata": {
  "kernelspec": {
   "display_name": "Python 3 (ipykernel)",
   "language": "python",
   "name": "python3"
  },
  "language_info": {
   "codemirror_mode": {
    "name": "ipython",
    "version": 3
   },
   "file_extension": ".py",
   "mimetype": "text/x-python",
   "name": "python",
   "nbconvert_exporter": "python",
   "pygments_lexer": "ipython3",
   "version": "3.11.3"
  }
 },
 "nbformat": 4,
 "nbformat_minor": 5
}
